{
 "cells": [
  {
   "cell_type": "markdown",
   "metadata": {},
   "source": [
    "# Import relevant libraries"
   ]
  },
  {
   "cell_type": "code",
   "execution_count": 26,
   "metadata": {},
   "outputs": [],
   "source": [
    "import cv2\n",
    "import numpy as np\n",
    "import matplotlib\n",
    "from matplotlib import pyplot as plt\n",
    "%matplotlib inline"
   ]
  },
  {
   "cell_type": "markdown",
   "metadata": {},
   "source": [
    "# Image Preprocessing (1)"
   ]
  },
  {
   "cell_type": "markdown",
   "metadata": {},
   "source": [
    "### a. Crop faces of images with 2 visible eyes\n",
    "### b. loop through dataset and save cropped faces in a new cropped folder"
   ]
  },
  {
   "cell_type": "code",
   "execution_count": 3,
   "metadata": {},
   "outputs": [],
   "source": [
    "face_cascade = cv2.CascadeClassifier('./opencv/haarcascades/haarcascade_frontalface_default.xml')\n",
    "eye_cascade = cv2.CascadeClassifier('./opencv/haarcascades/haarcascade_eye.xml')"
   ]
  },
  {
   "cell_type": "code",
   "execution_count": 4,
   "metadata": {},
   "outputs": [],
   "source": [
    "def get_cropped_face_if_2_eyes(img_path):\n",
    "    img = cv2.imread(img_path)\n",
    "    if img is not None:\n",
    "        gray_img = cv2.cvtColor(img, cv2.COLOR_BGR2GRAY)\n",
    "        face = face_cascade.detectMultiScale(gray_img, 1.3, 5)\n",
    "        for (x,y,w,h) in face:\n",
    "            roi_img = img[y:y+h, x:x+w]\n",
    "            roi_gray = gray_img[y:y+h, x:x+w]\n",
    "            eyes = eye_cascade.detectMultiScale(roi_gray)\n",
    "            if len(eyes)>= 2:\n",
    "                return roi_img"
   ]
  },
  {
   "cell_type": "code",
   "execution_count": 5,
   "metadata": {},
   "outputs": [],
   "source": [
    "path_to_dataset = './dataset/'\n",
    "path_to_cropped_dataset = './dataset/cropped/'"
   ]
  },
  {
   "cell_type": "code",
   "execution_count": 6,
   "metadata": {},
   "outputs": [],
   "source": [
    "import os\n",
    "img_dirs = []\n",
    "for entry in os.scandir(path_to_dataset):\n",
    "    if entry.is_dir():\n",
    "        img_dirs.append(entry.path)"
   ]
  },
  {
   "cell_type": "code",
   "execution_count": 7,
   "metadata": {
    "scrolled": true
   },
   "outputs": [
    {
     "data": {
      "text/plain": [
       "['./dataset/cristiano_ronaldo',\n",
       " './dataset/heung_min_son',\n",
       " './dataset/lionel_messi',\n",
       " './dataset/mohammed_salah',\n",
       " './dataset/neymar_jr',\n",
       " './dataset/sadio_mane']"
      ]
     },
     "execution_count": 7,
     "metadata": {},
     "output_type": "execute_result"
    }
   ],
   "source": [
    "img_dirs"
   ]
  },
  {
   "cell_type": "code",
   "execution_count": 8,
   "metadata": {},
   "outputs": [],
   "source": [
    "import shutil\n",
    "if os.path.exists(path_to_cropped_dataset):\n",
    "    shutil.rmtree(path_to_cropped_dataset)\n",
    "os.mkdir(path_to_cropped_dataset)"
   ]
  },
  {
   "cell_type": "code",
   "execution_count": 9,
   "metadata": {
    "scrolled": true
   },
   "outputs": [
    {
     "name": "stdout",
     "output_type": "stream",
     "text": [
      "Generating cropped images in folder: ./dataset/cropped/cristiano_ronaldo\n",
      "Generating cropped images in folder: ./dataset/cropped/heung_min_son\n",
      "Generating cropped images in folder: ./dataset/cropped/lionel_messi\n",
      "Generating cropped images in folder: ./dataset/cropped/mohammed_salah\n",
      "Generating cropped images in folder: ./dataset/cropped/neymar_jr\n",
      "Generating cropped images in folder: ./dataset/cropped/sadio_mane\n"
     ]
    }
   ],
   "source": [
    "cropped_img_dirs = []\n",
    "for img_dir in img_dirs:\n",
    "    player_name = img_dir.split('/') [-1]\n",
    "    count = 1\n",
    "    for file in os.scandir(img_dir):\n",
    "        roi = get_cropped_face_if_2_eyes(file.path)\n",
    "        if roi is not None:\n",
    "            cropped_folder = path_to_cropped_dataset + player_name\n",
    "            if not os.path.exists(cropped_folder):\n",
    "                os.mkdir(cropped_folder)\n",
    "                cropped_img_dirs.append(cropped_folder)\n",
    "                print('Generating cropped images in folder: ' + cropped_folder)\n",
    "            file_name = player_name + str(count) + '.png'\n",
    "            cropped_file_path = cropped_folder + '/' + file_name\n",
    "            cv2.imwrite(cropped_file_path, roi)            \n",
    "            count+=1\n",
    "                "
   ]
  },
  {
   "cell_type": "markdown",
   "metadata": {},
   "source": [
    "# Image preprocessing (2)\n",
    "## Manually remove unwanted images and add all cropped images path to a dictionary"
   ]
  },
  {
   "cell_type": "code",
   "execution_count": 2,
   "metadata": {},
   "outputs": [
    {
     "data": {
      "text/plain": [
       "{'cropped\\\\cristiano_ronaldo': ['./dataset/cropped\\\\cristiano_ronaldo\\\\cristiano_ronaldo1.png',\n",
       "  './dataset/cropped\\\\cristiano_ronaldo\\\\cristiano_ronaldo10.png',\n",
       "  './dataset/cropped\\\\cristiano_ronaldo\\\\cristiano_ronaldo100.png',\n",
       "  './dataset/cropped\\\\cristiano_ronaldo\\\\cristiano_ronaldo11.png',\n",
       "  './dataset/cropped\\\\cristiano_ronaldo\\\\cristiano_ronaldo12.png',\n",
       "  './dataset/cropped\\\\cristiano_ronaldo\\\\cristiano_ronaldo13.png',\n",
       "  './dataset/cropped\\\\cristiano_ronaldo\\\\cristiano_ronaldo14.png',\n",
       "  './dataset/cropped\\\\cristiano_ronaldo\\\\cristiano_ronaldo15.png',\n",
       "  './dataset/cropped\\\\cristiano_ronaldo\\\\cristiano_ronaldo16.png',\n",
       "  './dataset/cropped\\\\cristiano_ronaldo\\\\cristiano_ronaldo17.png',\n",
       "  './dataset/cropped\\\\cristiano_ronaldo\\\\cristiano_ronaldo18.png',\n",
       "  './dataset/cropped\\\\cristiano_ronaldo\\\\cristiano_ronaldo19.png',\n",
       "  './dataset/cropped\\\\cristiano_ronaldo\\\\cristiano_ronaldo2.png',\n",
       "  './dataset/cropped\\\\cristiano_ronaldo\\\\cristiano_ronaldo20.png',\n",
       "  './dataset/cropped\\\\cristiano_ronaldo\\\\cristiano_ronaldo21.png',\n",
       "  './dataset/cropped\\\\cristiano_ronaldo\\\\cristiano_ronaldo22.png',\n",
       "  './dataset/cropped\\\\cristiano_ronaldo\\\\cristiano_ronaldo23.png',\n",
       "  './dataset/cropped\\\\cristiano_ronaldo\\\\cristiano_ronaldo24.png',\n",
       "  './dataset/cropped\\\\cristiano_ronaldo\\\\cristiano_ronaldo25.png',\n",
       "  './dataset/cropped\\\\cristiano_ronaldo\\\\cristiano_ronaldo26.png',\n",
       "  './dataset/cropped\\\\cristiano_ronaldo\\\\cristiano_ronaldo27.png',\n",
       "  './dataset/cropped\\\\cristiano_ronaldo\\\\cristiano_ronaldo28.png',\n",
       "  './dataset/cropped\\\\cristiano_ronaldo\\\\cristiano_ronaldo29.png',\n",
       "  './dataset/cropped\\\\cristiano_ronaldo\\\\cristiano_ronaldo3.png',\n",
       "  './dataset/cropped\\\\cristiano_ronaldo\\\\cristiano_ronaldo30.png',\n",
       "  './dataset/cropped\\\\cristiano_ronaldo\\\\cristiano_ronaldo31.png',\n",
       "  './dataset/cropped\\\\cristiano_ronaldo\\\\cristiano_ronaldo32.png',\n",
       "  './dataset/cropped\\\\cristiano_ronaldo\\\\cristiano_ronaldo33.png',\n",
       "  './dataset/cropped\\\\cristiano_ronaldo\\\\cristiano_ronaldo34.png',\n",
       "  './dataset/cropped\\\\cristiano_ronaldo\\\\cristiano_ronaldo35.png',\n",
       "  './dataset/cropped\\\\cristiano_ronaldo\\\\cristiano_ronaldo36.png',\n",
       "  './dataset/cropped\\\\cristiano_ronaldo\\\\cristiano_ronaldo37.png',\n",
       "  './dataset/cropped\\\\cristiano_ronaldo\\\\cristiano_ronaldo38.png',\n",
       "  './dataset/cropped\\\\cristiano_ronaldo\\\\cristiano_ronaldo39.png',\n",
       "  './dataset/cropped\\\\cristiano_ronaldo\\\\cristiano_ronaldo4.png',\n",
       "  './dataset/cropped\\\\cristiano_ronaldo\\\\cristiano_ronaldo40.png',\n",
       "  './dataset/cropped\\\\cristiano_ronaldo\\\\cristiano_ronaldo41.png',\n",
       "  './dataset/cropped\\\\cristiano_ronaldo\\\\cristiano_ronaldo42.png',\n",
       "  './dataset/cropped\\\\cristiano_ronaldo\\\\cristiano_ronaldo43.png',\n",
       "  './dataset/cropped\\\\cristiano_ronaldo\\\\cristiano_ronaldo44.png',\n",
       "  './dataset/cropped\\\\cristiano_ronaldo\\\\cristiano_ronaldo45.png',\n",
       "  './dataset/cropped\\\\cristiano_ronaldo\\\\cristiano_ronaldo46.png',\n",
       "  './dataset/cropped\\\\cristiano_ronaldo\\\\cristiano_ronaldo47.png',\n",
       "  './dataset/cropped\\\\cristiano_ronaldo\\\\cristiano_ronaldo48.png',\n",
       "  './dataset/cropped\\\\cristiano_ronaldo\\\\cristiano_ronaldo49.png',\n",
       "  './dataset/cropped\\\\cristiano_ronaldo\\\\cristiano_ronaldo5.png',\n",
       "  './dataset/cropped\\\\cristiano_ronaldo\\\\cristiano_ronaldo50.png',\n",
       "  './dataset/cropped\\\\cristiano_ronaldo\\\\cristiano_ronaldo51.png',\n",
       "  './dataset/cropped\\\\cristiano_ronaldo\\\\cristiano_ronaldo52.png',\n",
       "  './dataset/cropped\\\\cristiano_ronaldo\\\\cristiano_ronaldo53.png',\n",
       "  './dataset/cropped\\\\cristiano_ronaldo\\\\cristiano_ronaldo54.png',\n",
       "  './dataset/cropped\\\\cristiano_ronaldo\\\\cristiano_ronaldo55.png',\n",
       "  './dataset/cropped\\\\cristiano_ronaldo\\\\cristiano_ronaldo56.png',\n",
       "  './dataset/cropped\\\\cristiano_ronaldo\\\\cristiano_ronaldo57.png',\n",
       "  './dataset/cropped\\\\cristiano_ronaldo\\\\cristiano_ronaldo58.png',\n",
       "  './dataset/cropped\\\\cristiano_ronaldo\\\\cristiano_ronaldo59.png',\n",
       "  './dataset/cropped\\\\cristiano_ronaldo\\\\cristiano_ronaldo60.png',\n",
       "  './dataset/cropped\\\\cristiano_ronaldo\\\\cristiano_ronaldo61.png',\n",
       "  './dataset/cropped\\\\cristiano_ronaldo\\\\cristiano_ronaldo62.png',\n",
       "  './dataset/cropped\\\\cristiano_ronaldo\\\\cristiano_ronaldo63.png',\n",
       "  './dataset/cropped\\\\cristiano_ronaldo\\\\cristiano_ronaldo64.png',\n",
       "  './dataset/cropped\\\\cristiano_ronaldo\\\\cristiano_ronaldo65.png',\n",
       "  './dataset/cropped\\\\cristiano_ronaldo\\\\cristiano_ronaldo66.png',\n",
       "  './dataset/cropped\\\\cristiano_ronaldo\\\\cristiano_ronaldo68.png',\n",
       "  './dataset/cropped\\\\cristiano_ronaldo\\\\cristiano_ronaldo7.png',\n",
       "  './dataset/cropped\\\\cristiano_ronaldo\\\\cristiano_ronaldo74.png',\n",
       "  './dataset/cropped\\\\cristiano_ronaldo\\\\cristiano_ronaldo75.png',\n",
       "  './dataset/cropped\\\\cristiano_ronaldo\\\\cristiano_ronaldo76.png',\n",
       "  './dataset/cropped\\\\cristiano_ronaldo\\\\cristiano_ronaldo78.png',\n",
       "  './dataset/cropped\\\\cristiano_ronaldo\\\\cristiano_ronaldo79.png',\n",
       "  './dataset/cropped\\\\cristiano_ronaldo\\\\cristiano_ronaldo8.png',\n",
       "  './dataset/cropped\\\\cristiano_ronaldo\\\\cristiano_ronaldo80.png',\n",
       "  './dataset/cropped\\\\cristiano_ronaldo\\\\cristiano_ronaldo81.png',\n",
       "  './dataset/cropped\\\\cristiano_ronaldo\\\\cristiano_ronaldo83.png',\n",
       "  './dataset/cropped\\\\cristiano_ronaldo\\\\cristiano_ronaldo85.png',\n",
       "  './dataset/cropped\\\\cristiano_ronaldo\\\\cristiano_ronaldo86.png',\n",
       "  './dataset/cropped\\\\cristiano_ronaldo\\\\cristiano_ronaldo87.png',\n",
       "  './dataset/cropped\\\\cristiano_ronaldo\\\\cristiano_ronaldo88.png',\n",
       "  './dataset/cropped\\\\cristiano_ronaldo\\\\cristiano_ronaldo89.png',\n",
       "  './dataset/cropped\\\\cristiano_ronaldo\\\\cristiano_ronaldo9.png',\n",
       "  './dataset/cropped\\\\cristiano_ronaldo\\\\cristiano_ronaldo90.png',\n",
       "  './dataset/cropped\\\\cristiano_ronaldo\\\\cristiano_ronaldo91.png',\n",
       "  './dataset/cropped\\\\cristiano_ronaldo\\\\cristiano_ronaldo92.png',\n",
       "  './dataset/cropped\\\\cristiano_ronaldo\\\\cristiano_ronaldo93.png',\n",
       "  './dataset/cropped\\\\cristiano_ronaldo\\\\cristiano_ronaldo94.png',\n",
       "  './dataset/cropped\\\\cristiano_ronaldo\\\\cristiano_ronaldo95.png',\n",
       "  './dataset/cropped\\\\cristiano_ronaldo\\\\cristiano_ronaldo96.png',\n",
       "  './dataset/cropped\\\\cristiano_ronaldo\\\\cristiano_ronaldo97.png',\n",
       "  './dataset/cropped\\\\cristiano_ronaldo\\\\cristiano_ronaldo98.png',\n",
       "  './dataset/cropped\\\\cristiano_ronaldo\\\\cristiano_ronaldo99.png'],\n",
       " 'cropped\\\\heung_min_son': ['./dataset/cropped\\\\heung_min_son\\\\heung_min_son1.png',\n",
       "  './dataset/cropped\\\\heung_min_son\\\\heung_min_son10.png',\n",
       "  './dataset/cropped\\\\heung_min_son\\\\heung_min_son12.png',\n",
       "  './dataset/cropped\\\\heung_min_son\\\\heung_min_son13.png',\n",
       "  './dataset/cropped\\\\heung_min_son\\\\heung_min_son15.png',\n",
       "  './dataset/cropped\\\\heung_min_son\\\\heung_min_son16.png',\n",
       "  './dataset/cropped\\\\heung_min_son\\\\heung_min_son17.png',\n",
       "  './dataset/cropped\\\\heung_min_son\\\\heung_min_son18.png',\n",
       "  './dataset/cropped\\\\heung_min_son\\\\heung_min_son19.png',\n",
       "  './dataset/cropped\\\\heung_min_son\\\\heung_min_son2.png',\n",
       "  './dataset/cropped\\\\heung_min_son\\\\heung_min_son20.png',\n",
       "  './dataset/cropped\\\\heung_min_son\\\\heung_min_son21.png',\n",
       "  './dataset/cropped\\\\heung_min_son\\\\heung_min_son22.png',\n",
       "  './dataset/cropped\\\\heung_min_son\\\\heung_min_son23.png',\n",
       "  './dataset/cropped\\\\heung_min_son\\\\heung_min_son24.png',\n",
       "  './dataset/cropped\\\\heung_min_son\\\\heung_min_son25.png',\n",
       "  './dataset/cropped\\\\heung_min_son\\\\heung_min_son26.png',\n",
       "  './dataset/cropped\\\\heung_min_son\\\\heung_min_son27.png',\n",
       "  './dataset/cropped\\\\heung_min_son\\\\heung_min_son28.png',\n",
       "  './dataset/cropped\\\\heung_min_son\\\\heung_min_son3.png',\n",
       "  './dataset/cropped\\\\heung_min_son\\\\heung_min_son30.png',\n",
       "  './dataset/cropped\\\\heung_min_son\\\\heung_min_son31.png',\n",
       "  './dataset/cropped\\\\heung_min_son\\\\heung_min_son32.png',\n",
       "  './dataset/cropped\\\\heung_min_son\\\\heung_min_son33.png',\n",
       "  './dataset/cropped\\\\heung_min_son\\\\heung_min_son34.png',\n",
       "  './dataset/cropped\\\\heung_min_son\\\\heung_min_son35.png',\n",
       "  './dataset/cropped\\\\heung_min_son\\\\heung_min_son36.png',\n",
       "  './dataset/cropped\\\\heung_min_son\\\\heung_min_son37.png',\n",
       "  './dataset/cropped\\\\heung_min_son\\\\heung_min_son38.png',\n",
       "  './dataset/cropped\\\\heung_min_son\\\\heung_min_son39.png',\n",
       "  './dataset/cropped\\\\heung_min_son\\\\heung_min_son4.png',\n",
       "  './dataset/cropped\\\\heung_min_son\\\\heung_min_son40.png',\n",
       "  './dataset/cropped\\\\heung_min_son\\\\heung_min_son42.png',\n",
       "  './dataset/cropped\\\\heung_min_son\\\\heung_min_son43.png',\n",
       "  './dataset/cropped\\\\heung_min_son\\\\heung_min_son44.png',\n",
       "  './dataset/cropped\\\\heung_min_son\\\\heung_min_son46.png',\n",
       "  './dataset/cropped\\\\heung_min_son\\\\heung_min_son47.png',\n",
       "  './dataset/cropped\\\\heung_min_son\\\\heung_min_son49.png',\n",
       "  './dataset/cropped\\\\heung_min_son\\\\heung_min_son5.png',\n",
       "  './dataset/cropped\\\\heung_min_son\\\\heung_min_son50.png',\n",
       "  './dataset/cropped\\\\heung_min_son\\\\heung_min_son51.png',\n",
       "  './dataset/cropped\\\\heung_min_son\\\\heung_min_son52.png',\n",
       "  './dataset/cropped\\\\heung_min_son\\\\heung_min_son53.png',\n",
       "  './dataset/cropped\\\\heung_min_son\\\\heung_min_son54.png',\n",
       "  './dataset/cropped\\\\heung_min_son\\\\heung_min_son55.png',\n",
       "  './dataset/cropped\\\\heung_min_son\\\\heung_min_son56.png',\n",
       "  './dataset/cropped\\\\heung_min_son\\\\heung_min_son57.png',\n",
       "  './dataset/cropped\\\\heung_min_son\\\\heung_min_son59.png',\n",
       "  './dataset/cropped\\\\heung_min_son\\\\heung_min_son6.png',\n",
       "  './dataset/cropped\\\\heung_min_son\\\\heung_min_son60.png',\n",
       "  './dataset/cropped\\\\heung_min_son\\\\heung_min_son63.png',\n",
       "  './dataset/cropped\\\\heung_min_son\\\\heung_min_son64.png',\n",
       "  './dataset/cropped\\\\heung_min_son\\\\heung_min_son67.png',\n",
       "  './dataset/cropped\\\\heung_min_son\\\\heung_min_son68.png',\n",
       "  './dataset/cropped\\\\heung_min_son\\\\heung_min_son70.png',\n",
       "  './dataset/cropped\\\\heung_min_son\\\\heung_min_son71.png',\n",
       "  './dataset/cropped\\\\heung_min_son\\\\heung_min_son72.png',\n",
       "  './dataset/cropped\\\\heung_min_son\\\\heung_min_son73.png',\n",
       "  './dataset/cropped\\\\heung_min_son\\\\heung_min_son8.png',\n",
       "  './dataset/cropped\\\\heung_min_son\\\\heung_min_son9.png'],\n",
       " 'cropped\\\\lionel_messi': ['./dataset/cropped\\\\lionel_messi\\\\lionel_messi1.png',\n",
       "  './dataset/cropped\\\\lionel_messi\\\\lionel_messi10.png',\n",
       "  './dataset/cropped\\\\lionel_messi\\\\lionel_messi11.png',\n",
       "  './dataset/cropped\\\\lionel_messi\\\\lionel_messi12.png',\n",
       "  './dataset/cropped\\\\lionel_messi\\\\lionel_messi13.png',\n",
       "  './dataset/cropped\\\\lionel_messi\\\\lionel_messi15.png',\n",
       "  './dataset/cropped\\\\lionel_messi\\\\lionel_messi16.png',\n",
       "  './dataset/cropped\\\\lionel_messi\\\\lionel_messi17.png',\n",
       "  './dataset/cropped\\\\lionel_messi\\\\lionel_messi18.png',\n",
       "  './dataset/cropped\\\\lionel_messi\\\\lionel_messi19.png',\n",
       "  './dataset/cropped\\\\lionel_messi\\\\lionel_messi2.png',\n",
       "  './dataset/cropped\\\\lionel_messi\\\\lionel_messi20.png',\n",
       "  './dataset/cropped\\\\lionel_messi\\\\lionel_messi21.png',\n",
       "  './dataset/cropped\\\\lionel_messi\\\\lionel_messi22.png',\n",
       "  './dataset/cropped\\\\lionel_messi\\\\lionel_messi23.png',\n",
       "  './dataset/cropped\\\\lionel_messi\\\\lionel_messi26.png',\n",
       "  './dataset/cropped\\\\lionel_messi\\\\lionel_messi27.png',\n",
       "  './dataset/cropped\\\\lionel_messi\\\\lionel_messi28.png',\n",
       "  './dataset/cropped\\\\lionel_messi\\\\lionel_messi29.png',\n",
       "  './dataset/cropped\\\\lionel_messi\\\\lionel_messi3.png',\n",
       "  './dataset/cropped\\\\lionel_messi\\\\lionel_messi30.png',\n",
       "  './dataset/cropped\\\\lionel_messi\\\\lionel_messi32.png',\n",
       "  './dataset/cropped\\\\lionel_messi\\\\lionel_messi34.png',\n",
       "  './dataset/cropped\\\\lionel_messi\\\\lionel_messi35.png',\n",
       "  './dataset/cropped\\\\lionel_messi\\\\lionel_messi36.png',\n",
       "  './dataset/cropped\\\\lionel_messi\\\\lionel_messi37.png',\n",
       "  './dataset/cropped\\\\lionel_messi\\\\lionel_messi38.png',\n",
       "  './dataset/cropped\\\\lionel_messi\\\\lionel_messi39.png',\n",
       "  './dataset/cropped\\\\lionel_messi\\\\lionel_messi4.png',\n",
       "  './dataset/cropped\\\\lionel_messi\\\\lionel_messi40.png',\n",
       "  './dataset/cropped\\\\lionel_messi\\\\lionel_messi41.png',\n",
       "  './dataset/cropped\\\\lionel_messi\\\\lionel_messi42.png',\n",
       "  './dataset/cropped\\\\lionel_messi\\\\lionel_messi43.png',\n",
       "  './dataset/cropped\\\\lionel_messi\\\\lionel_messi44.png',\n",
       "  './dataset/cropped\\\\lionel_messi\\\\lionel_messi45.png',\n",
       "  './dataset/cropped\\\\lionel_messi\\\\lionel_messi46.png',\n",
       "  './dataset/cropped\\\\lionel_messi\\\\lionel_messi47.png',\n",
       "  './dataset/cropped\\\\lionel_messi\\\\lionel_messi48.png',\n",
       "  './dataset/cropped\\\\lionel_messi\\\\lionel_messi49.png',\n",
       "  './dataset/cropped\\\\lionel_messi\\\\lionel_messi5.png',\n",
       "  './dataset/cropped\\\\lionel_messi\\\\lionel_messi50.png',\n",
       "  './dataset/cropped\\\\lionel_messi\\\\lionel_messi51.png',\n",
       "  './dataset/cropped\\\\lionel_messi\\\\lionel_messi52.png',\n",
       "  './dataset/cropped\\\\lionel_messi\\\\lionel_messi53.png',\n",
       "  './dataset/cropped\\\\lionel_messi\\\\lionel_messi6.png',\n",
       "  './dataset/cropped\\\\lionel_messi\\\\lionel_messi7.png',\n",
       "  './dataset/cropped\\\\lionel_messi\\\\lionel_messi8.png',\n",
       "  './dataset/cropped\\\\lionel_messi\\\\lionel_messi9.png'],\n",
       " 'cropped\\\\mohammed_salah': ['./dataset/cropped\\\\mohammed_salah\\\\mohammed_salah1.png',\n",
       "  './dataset/cropped\\\\mohammed_salah\\\\mohammed_salah10.png',\n",
       "  './dataset/cropped\\\\mohammed_salah\\\\mohammed_salah11.png',\n",
       "  './dataset/cropped\\\\mohammed_salah\\\\mohammed_salah13.png',\n",
       "  './dataset/cropped\\\\mohammed_salah\\\\mohammed_salah14.png',\n",
       "  './dataset/cropped\\\\mohammed_salah\\\\mohammed_salah15.png',\n",
       "  './dataset/cropped\\\\mohammed_salah\\\\mohammed_salah16.png',\n",
       "  './dataset/cropped\\\\mohammed_salah\\\\mohammed_salah17.png',\n",
       "  './dataset/cropped\\\\mohammed_salah\\\\mohammed_salah18.png',\n",
       "  './dataset/cropped\\\\mohammed_salah\\\\mohammed_salah2.png',\n",
       "  './dataset/cropped\\\\mohammed_salah\\\\mohammed_salah20.png',\n",
       "  './dataset/cropped\\\\mohammed_salah\\\\mohammed_salah21.png',\n",
       "  './dataset/cropped\\\\mohammed_salah\\\\mohammed_salah23.png',\n",
       "  './dataset/cropped\\\\mohammed_salah\\\\mohammed_salah24.png',\n",
       "  './dataset/cropped\\\\mohammed_salah\\\\mohammed_salah25.png',\n",
       "  './dataset/cropped\\\\mohammed_salah\\\\mohammed_salah26.png',\n",
       "  './dataset/cropped\\\\mohammed_salah\\\\mohammed_salah3.png',\n",
       "  './dataset/cropped\\\\mohammed_salah\\\\mohammed_salah5.png',\n",
       "  './dataset/cropped\\\\mohammed_salah\\\\mohammed_salah6.png',\n",
       "  './dataset/cropped\\\\mohammed_salah\\\\mohammed_salah8.png',\n",
       "  './dataset/cropped\\\\mohammed_salah\\\\mohammed_salah9.png'],\n",
       " 'cropped\\\\neymar_jr': ['./dataset/cropped\\\\neymar_jr\\\\neymar_jr1.png',\n",
       "  './dataset/cropped\\\\neymar_jr\\\\neymar_jr11.png',\n",
       "  './dataset/cropped\\\\neymar_jr\\\\neymar_jr12.png',\n",
       "  './dataset/cropped\\\\neymar_jr\\\\neymar_jr13.png',\n",
       "  './dataset/cropped\\\\neymar_jr\\\\neymar_jr14.png',\n",
       "  './dataset/cropped\\\\neymar_jr\\\\neymar_jr16.png',\n",
       "  './dataset/cropped\\\\neymar_jr\\\\neymar_jr17.png',\n",
       "  './dataset/cropped\\\\neymar_jr\\\\neymar_jr18.png',\n",
       "  './dataset/cropped\\\\neymar_jr\\\\neymar_jr19.png',\n",
       "  './dataset/cropped\\\\neymar_jr\\\\neymar_jr2.png',\n",
       "  './dataset/cropped\\\\neymar_jr\\\\neymar_jr20.png',\n",
       "  './dataset/cropped\\\\neymar_jr\\\\neymar_jr21.png',\n",
       "  './dataset/cropped\\\\neymar_jr\\\\neymar_jr22.png',\n",
       "  './dataset/cropped\\\\neymar_jr\\\\neymar_jr23.png',\n",
       "  './dataset/cropped\\\\neymar_jr\\\\neymar_jr3.png',\n",
       "  './dataset/cropped\\\\neymar_jr\\\\neymar_jr4.png',\n",
       "  './dataset/cropped\\\\neymar_jr\\\\neymar_jr5.png',\n",
       "  './dataset/cropped\\\\neymar_jr\\\\neymar_jr6.png',\n",
       "  './dataset/cropped\\\\neymar_jr\\\\neymar_jr7.png',\n",
       "  './dataset/cropped\\\\neymar_jr\\\\neymar_jr8.png'],\n",
       " 'cropped\\\\sadio_mane': ['./dataset/cropped\\\\sadio_mane\\\\sadio_mane10.png',\n",
       "  './dataset/cropped\\\\sadio_mane\\\\sadio_mane12.png',\n",
       "  './dataset/cropped\\\\sadio_mane\\\\sadio_mane13.png',\n",
       "  './dataset/cropped\\\\sadio_mane\\\\sadio_mane15.png',\n",
       "  './dataset/cropped\\\\sadio_mane\\\\sadio_mane2.png',\n",
       "  './dataset/cropped\\\\sadio_mane\\\\sadio_mane25.png',\n",
       "  './dataset/cropped\\\\sadio_mane\\\\sadio_mane26.png',\n",
       "  './dataset/cropped\\\\sadio_mane\\\\sadio_mane27.png',\n",
       "  './dataset/cropped\\\\sadio_mane\\\\sadio_mane28.png',\n",
       "  './dataset/cropped\\\\sadio_mane\\\\sadio_mane3.png',\n",
       "  './dataset/cropped\\\\sadio_mane\\\\sadio_mane30.png',\n",
       "  './dataset/cropped\\\\sadio_mane\\\\sadio_mane32.png',\n",
       "  './dataset/cropped\\\\sadio_mane\\\\sadio_mane33.png',\n",
       "  './dataset/cropped\\\\sadio_mane\\\\sadio_mane34.png',\n",
       "  './dataset/cropped\\\\sadio_mane\\\\sadio_mane38.png',\n",
       "  './dataset/cropped\\\\sadio_mane\\\\sadio_mane4.png',\n",
       "  './dataset/cropped\\\\sadio_mane\\\\sadio_mane43.png',\n",
       "  './dataset/cropped\\\\sadio_mane\\\\sadio_mane44.png',\n",
       "  './dataset/cropped\\\\sadio_mane\\\\sadio_mane45.png',\n",
       "  './dataset/cropped\\\\sadio_mane\\\\sadio_mane46.png',\n",
       "  './dataset/cropped\\\\sadio_mane\\\\sadio_mane5.png',\n",
       "  './dataset/cropped\\\\sadio_mane\\\\sadio_mane50.png',\n",
       "  './dataset/cropped\\\\sadio_mane\\\\sadio_mane52.png',\n",
       "  './dataset/cropped\\\\sadio_mane\\\\sadio_mane53.png',\n",
       "  './dataset/cropped\\\\sadio_mane\\\\sadio_mane55.png',\n",
       "  './dataset/cropped\\\\sadio_mane\\\\sadio_mane57.png',\n",
       "  './dataset/cropped\\\\sadio_mane\\\\sadio_mane58.png',\n",
       "  './dataset/cropped\\\\sadio_mane\\\\sadio_mane60.png',\n",
       "  './dataset/cropped\\\\sadio_mane\\\\sadio_mane8.png']}"
      ]
     },
     "execution_count": 2,
     "metadata": {},
     "output_type": "execute_result"
    }
   ],
   "source": [
    "cropped_img_dict = {}\n",
    "for img_dir in cropped_img_dirs:\n",
    "    player_name = img_dir.split('/')[-1]\n",
    "    img_list = []\n",
    "    for img in os.scandir(img_dir):\n",
    "        img_list.append(img.path)\n",
    "    cropped_img_dict[player_name]= img_list\n",
    "cropped_img_dict"
   ]
  },
  {
   "cell_type": "markdown",
   "metadata": {},
   "source": [
    "### create a dictionary  of player name with corresponding class number"
   ]
  },
  {
   "cell_type": "code",
   "execution_count": 3,
   "metadata": {},
   "outputs": [
    {
     "data": {
      "text/plain": [
       "{'cropped\\\\cristiano_ronaldo': 0,\n",
       " 'cropped\\\\heung_min_son': 1,\n",
       " 'cropped\\\\lionel_messi': 2,\n",
       " 'cropped\\\\mohammed_salah': 3,\n",
       " 'cropped\\\\neymar_jr': 4,\n",
       " 'cropped\\\\sadio_mane': 5}"
      ]
     },
     "execution_count": 3,
     "metadata": {},
     "output_type": "execute_result"
    }
   ],
   "source": [
    "class_dict = {}\n",
    "count = 0\n",
    "for player_name in cropped_img_dict.keys():\n",
    "    class_dict[player_name] = count\n",
    "    count+=1\n",
    "class_dict"
   ]
  },
  {
   "cell_type": "markdown",
   "metadata": {},
   "source": [
    "# Image Preprocessing(3)\n",
    "## Transform the image features for training using wavelet transform"
   ]
  },
  {
   "cell_type": "code",
   "execution_count": 4,
   "metadata": {},
   "outputs": [],
   "source": [
    "import numpy as np\n",
    "import pywt\n",
    "import cv2\n",
    "def wavelet_transform(img, mode= 'haar', level = 1):\n",
    "    \n",
    "    #convert image to gray\n",
    "    imArray = cv2.cvtColor(img, cv2.COLOR_RGB2GRAY)\n",
    "    \n",
    "    #convert to float\n",
    "    imArray = np.float32(imArray)\n",
    "    imArray /+ 255\n",
    "    \n",
    "    #compute coefficients\n",
    "    coeffs = pywt.wavedec2(imArray, mode, level= level)\n",
    "    \n",
    "    #process coefficients\n",
    "    coeffs_H = list(coeffs)\n",
    "    coeffs_H[0] *= 0\n",
    "    \n",
    "    #reconstruction\n",
    "    imArray_H = pywt.waverec2(coeffs_H, mode)\n",
    "    imArray_H *= 255\n",
    "    imArray_H = np.uint8(imArray_H)\n",
    "    \n",
    "    return imArray_H\n",
    "    \n",
    "    "
   ]
  },
  {
   "cell_type": "markdown",
   "metadata": {},
   "source": [
    "## transform images, stack both cropped images and transformed as the independent variable (x) and class number as dependant variable(y) "
   ]
  },
  {
   "cell_type": "code",
   "execution_count": 5,
   "metadata": {},
   "outputs": [],
   "source": [
    "x,y = [], []\n",
    "for player_name, img_list in cropped_img_dict.items():\n",
    "    for img in img_list:\n",
    "        img = cv2.imread(img)\n",
    "        scaled_raw_img = cv2.resize(img, (32,32))\n",
    "        wave_trans_img = wavelet_transform(img, 'db1', 5)\n",
    "        scaled_wave_trans_img = cv2.resize(wave_trans_img, (32,32))\n",
    "        stacked_img = np.vstack((scaled_raw_img.reshape(32*32*3, 1), scaled_wave_trans_img.reshape(32*32, 1)))\n",
    "        x.append(stacked_img)\n",
    "        y.append(class_dict[player_name])"
   ]
  },
  {
   "cell_type": "code",
   "execution_count": 6,
   "metadata": {
    "scrolled": true
   },
   "outputs": [
    {
     "data": {
      "text/plain": [
       "list"
      ]
     },
     "execution_count": 6,
     "metadata": {},
     "output_type": "execute_result"
    }
   ],
   "source": [
    "type(x)"
   ]
  },
  {
   "cell_type": "code",
   "execution_count": 7,
   "metadata": {},
   "outputs": [
    {
     "data": {
      "text/plain": [
       "268"
      ]
     },
     "execution_count": 7,
     "metadata": {},
     "output_type": "execute_result"
    }
   ],
   "source": [
    "len(x)"
   ]
  },
  {
   "cell_type": "code",
   "execution_count": 8,
   "metadata": {},
   "outputs": [
    {
     "data": {
      "text/plain": [
       "4096"
      ]
     },
     "execution_count": 8,
     "metadata": {},
     "output_type": "execute_result"
    }
   ],
   "source": [
    "len(x[0])"
   ]
  },
  {
   "cell_type": "code",
   "execution_count": 9,
   "metadata": {},
   "outputs": [],
   "source": [
    "# x  contains 339 images, with each image with a length of 4096"
   ]
  },
  {
   "cell_type": "markdown",
   "metadata": {},
   "source": [
    "## convert (x) to an array of floats"
   ]
  },
  {
   "cell_type": "code",
   "execution_count": 10,
   "metadata": {},
   "outputs": [],
   "source": [
    "x = np.array(x).reshape(len(x), 4096)"
   ]
  },
  {
   "cell_type": "code",
   "execution_count": 11,
   "metadata": {},
   "outputs": [
    {
     "data": {
      "text/plain": [
       "(268, 4096)"
      ]
     },
     "execution_count": 11,
     "metadata": {},
     "output_type": "execute_result"
    }
   ],
   "source": [
    "x.shape"
   ]
  },
  {
   "cell_type": "markdown",
   "metadata": {},
   "source": [
    "# Train data by hyperparameter tuning it with gridsearchCV to select best model and parameters for training data"
   ]
  },
  {
   "cell_type": "code",
   "execution_count": 12,
   "metadata": {},
   "outputs": [],
   "source": [
    "from sklearn.preprocessing import StandardScaler\n",
    "from sklearn.model_selection import train_test_split\n",
    "from sklearn.pipeline import  make_pipeline\n",
    "from sklearn.metrics import classification_report\n",
    "from sklearn.model_selection import GridSearchCV"
   ]
  },
  {
   "cell_type": "code",
   "execution_count": 13,
   "metadata": {},
   "outputs": [],
   "source": [
    "x_train, x_test, y_train, y_test = train_test_split(x,y, random_state = 0)"
   ]
  },
  {
   "cell_type": "code",
   "execution_count": null,
   "metadata": {},
   "outputs": [],
   "source": [
    "from sklearn.linear_model.ridge import RidgeClassifierCV\n",
    "from sklearn.linear_model.ridge import RidgeClassifier\n",
    "from sklearn.linear_model.passive_aggressive import PassiveAggressiveClassifier \n",
    "from sklearn.calibration import CalibratedClassifierCV\n",
    "from sklearn.discriminant_analysis import LinearDiscriminantAnalysis\n",
    "from sklearn.linear_model import LogisticRegression\n",
    "from sklearn.svm import SVC"
   ]
  },
  {
   "cell_type": "code",
   "execution_count": 15,
   "metadata": {},
   "outputs": [],
   "source": [
    "model_params = {\n",
    "    'support vector machine' : {\n",
    "        'model' : SVC(gamma='auto', probability= True),\n",
    "        'params': {\n",
    "            'svc__C': [1, 10, 100, 1000],\n",
    "            'svc__kernel': ['rbf', 'linear']\n",
    "        }\n",
    "    },\n",
    "       \n",
    "        'Ridge classifier cv' : {\n",
    "        'model' : RidgeClassifierCV(),\n",
    "        'params': {\n",
    "             'ridgeclassifiercv__cv' : [2, 5, 10, 50, 100]\n",
    "        }        \n",
    "    },\n",
    "        'Ridge classifier' : {\n",
    "        'model' : RidgeClassifier(),\n",
    "        'params': {\n",
    "             'ridgeclassifier__alpha' : [1, 5, 10, 50, 100],\n",
    "             'ridgeclassifier__fit_intercept' : [True, False],\n",
    "             'ridgeclassifier__normalize': [True, False],\n",
    "             'ridgeclassifier__solver' : ['auto', 'svd', 'cholesky', 'lsqr', 'sparse_cg', 'sag', 'saga']\n",
    "        }        \n",
    "    },\n",
    "       'Passive aggressive classifier' : {\n",
    "        'model' : PassiveAggressiveClassifier(),\n",
    "        'params': {\n",
    "             'passiveaggressiveclassifier__fit_intercept' : [True, False],\n",
    "             'passiveaggressiveclassifier__shuffle': [True, False],\n",
    "             'passiveaggressiveclassifier__loss' : ['hinge', 'squared_hinge'],\n",
    "             'passiveaggressiveclassifier__warm_start' : [True, False],\n",
    "             'passiveaggressiveclassifier__average' : [True, False]\n",
    "        }    \n",
    "    },\n",
    "        'calibrated classifier CV' : {\n",
    "         'model' : CalibratedClassifierCV(),\n",
    "         'params': {      \n",
    "        }\n",
    "     },\n",
    "        'linear discriminant analysis' : {\n",
    "         'model' : LinearDiscriminantAnalysis(),\n",
    "         'params': {\n",
    "             'lineardiscriminantanalysis__solver' : ['svd', 'lsqr', 'eigen']    \n",
    "        }\n",
    "     },\n",
    "       \n",
    "        'logistic_regression' : {\n",
    "        'model': LogisticRegression(solver='liblinear',multi_class='auto'),\n",
    "        'params': {\n",
    "            'logisticregression__C': [1,5,10]\n",
    "        }\n",
    "    },  \n",
    "    }"
   ]
  },
  {
   "cell_type": "code",
   "execution_count": null,
   "metadata": {},
   "outputs": [],
   "source": [
    "scores = []\n",
    "best_estimators = {}\n",
    "import pandas as pd\n",
    "for alg, model_param in model_params.items():\n",
    "    pipe = make_pipeline(StandardScaler(), model_param['model'])\n",
    "    clf =  GridSearchCV(pipe, model_param['params'], cv= 5, return_train_score= False)\n",
    "    clf.fit(x_train, y_train)\n",
    "    \n",
    "    scores.append({\n",
    "        'model': alg,\n",
    "        'best_score' : clf.best_score_,\n",
    "        'best_params': clf.best_params_\n",
    "    })\n",
    "    best_estimators[alg] = clf.best_estimator_"
   ]
  },
  {
   "cell_type": "markdown",
   "metadata": {},
   "source": [
    "## load the score into dataframe and show models that performed best"
   ]
  },
  {
   "cell_type": "code",
   "execution_count": 17,
   "metadata": {},
   "outputs": [],
   "source": [
    "df = pd.DataFrame(scores, columns= ['model', 'best_score', 'best_params'])"
   ]
  },
  {
   "cell_type": "code",
   "execution_count": 18,
   "metadata": {},
   "outputs": [
    {
     "data": {
      "text/html": [
       "<div>\n",
       "<style scoped>\n",
       "    .dataframe tbody tr th:only-of-type {\n",
       "        vertical-align: middle;\n",
       "    }\n",
       "\n",
       "    .dataframe tbody tr th {\n",
       "        vertical-align: top;\n",
       "    }\n",
       "\n",
       "    .dataframe thead th {\n",
       "        text-align: right;\n",
       "    }\n",
       "</style>\n",
       "<table border=\"1\" class=\"dataframe\">\n",
       "  <thead>\n",
       "    <tr style=\"text-align: right;\">\n",
       "      <th></th>\n",
       "      <th>model</th>\n",
       "      <th>best_score</th>\n",
       "      <th>best_params</th>\n",
       "    </tr>\n",
       "  </thead>\n",
       "  <tbody>\n",
       "    <tr>\n",
       "      <th>0</th>\n",
       "      <td>support vector machine</td>\n",
       "      <td>0.815610</td>\n",
       "      <td>{'svc__C': 1, 'svc__kernel': 'linear'}</td>\n",
       "    </tr>\n",
       "    <tr>\n",
       "      <th>1</th>\n",
       "      <td>Ridge classifier cv</td>\n",
       "      <td>0.795732</td>\n",
       "      <td>{'ridgeclassifiercv__cv': 2}</td>\n",
       "    </tr>\n",
       "    <tr>\n",
       "      <th>2</th>\n",
       "      <td>Ridge classifier</td>\n",
       "      <td>0.830610</td>\n",
       "      <td>{'ridgeclassifier__alpha': 10, 'ridgeclassifie...</td>\n",
       "    </tr>\n",
       "    <tr>\n",
       "      <th>3</th>\n",
       "      <td>Passive aggressive classifier</td>\n",
       "      <td>0.741098</td>\n",
       "      <td>{'passiveaggressiveclassifier__average': True,...</td>\n",
       "    </tr>\n",
       "    <tr>\n",
       "      <th>4</th>\n",
       "      <td>calibrated classifier CV</td>\n",
       "      <td>0.795732</td>\n",
       "      <td>{}</td>\n",
       "    </tr>\n",
       "    <tr>\n",
       "      <th>5</th>\n",
       "      <td>linear discriminant analysis</td>\n",
       "      <td>0.801098</td>\n",
       "      <td>{'lineardiscriminantanalysis__solver': 'svd'}</td>\n",
       "    </tr>\n",
       "    <tr>\n",
       "      <th>6</th>\n",
       "      <td>logistic_regression</td>\n",
       "      <td>0.736098</td>\n",
       "      <td>{'logisticregression__C': 1}</td>\n",
       "    </tr>\n",
       "  </tbody>\n",
       "</table>\n",
       "</div>"
      ],
      "text/plain": [
       "                           model  best_score  \\\n",
       "0         support vector machine    0.815610   \n",
       "1            Ridge classifier cv    0.795732   \n",
       "2               Ridge classifier    0.830610   \n",
       "3  Passive aggressive classifier    0.741098   \n",
       "4       calibrated classifier CV    0.795732   \n",
       "5   linear discriminant analysis    0.801098   \n",
       "6            logistic_regression    0.736098   \n",
       "\n",
       "                                         best_params  \n",
       "0             {'svc__C': 1, 'svc__kernel': 'linear'}  \n",
       "1                       {'ridgeclassifiercv__cv': 2}  \n",
       "2  {'ridgeclassifier__alpha': 10, 'ridgeclassifie...  \n",
       "3  {'passiveaggressiveclassifier__average': True,...  \n",
       "4                                                 {}  \n",
       "5      {'lineardiscriminantanalysis__solver': 'svd'}  \n",
       "6                       {'logisticregression__C': 1}  "
      ]
     },
     "execution_count": 18,
     "metadata": {},
     "output_type": "execute_result"
    }
   ],
   "source": [
    "df"
   ]
  },
  {
   "cell_type": "code",
   "execution_count": 19,
   "metadata": {
    "scrolled": false
   },
   "outputs": [
    {
     "data": {
      "text/html": [
       "<div>\n",
       "<style scoped>\n",
       "    .dataframe tbody tr th:only-of-type {\n",
       "        vertical-align: middle;\n",
       "    }\n",
       "\n",
       "    .dataframe tbody tr th {\n",
       "        vertical-align: top;\n",
       "    }\n",
       "\n",
       "    .dataframe thead th {\n",
       "        text-align: right;\n",
       "    }\n",
       "</style>\n",
       "<table border=\"1\" class=\"dataframe\">\n",
       "  <thead>\n",
       "    <tr style=\"text-align: right;\">\n",
       "      <th></th>\n",
       "      <th>model</th>\n",
       "      <th>best_score</th>\n",
       "      <th>best_params</th>\n",
       "    </tr>\n",
       "  </thead>\n",
       "  <tbody>\n",
       "    <tr>\n",
       "      <th>2</th>\n",
       "      <td>Ridge classifier</td>\n",
       "      <td>0.830610</td>\n",
       "      <td>{'ridgeclassifier__alpha': 10, 'ridgeclassifie...</td>\n",
       "    </tr>\n",
       "    <tr>\n",
       "      <th>0</th>\n",
       "      <td>support vector machine</td>\n",
       "      <td>0.815610</td>\n",
       "      <td>{'svc__C': 1, 'svc__kernel': 'linear'}</td>\n",
       "    </tr>\n",
       "    <tr>\n",
       "      <th>5</th>\n",
       "      <td>linear discriminant analysis</td>\n",
       "      <td>0.801098</td>\n",
       "      <td>{'lineardiscriminantanalysis__solver': 'svd'}</td>\n",
       "    </tr>\n",
       "    <tr>\n",
       "      <th>1</th>\n",
       "      <td>Ridge classifier cv</td>\n",
       "      <td>0.795732</td>\n",
       "      <td>{'ridgeclassifiercv__cv': 2}</td>\n",
       "    </tr>\n",
       "    <tr>\n",
       "      <th>4</th>\n",
       "      <td>calibrated classifier CV</td>\n",
       "      <td>0.795732</td>\n",
       "      <td>{}</td>\n",
       "    </tr>\n",
       "  </tbody>\n",
       "</table>\n",
       "</div>"
      ],
      "text/plain": [
       "                          model  best_score  \\\n",
       "2              Ridge classifier    0.830610   \n",
       "0        support vector machine    0.815610   \n",
       "5  linear discriminant analysis    0.801098   \n",
       "1           Ridge classifier cv    0.795732   \n",
       "4      calibrated classifier CV    0.795732   \n",
       "\n",
       "                                         best_params  \n",
       "2  {'ridgeclassifier__alpha': 10, 'ridgeclassifie...  \n",
       "0             {'svc__C': 1, 'svc__kernel': 'linear'}  \n",
       "5      {'lineardiscriminantanalysis__solver': 'svd'}  \n",
       "1                       {'ridgeclassifiercv__cv': 2}  \n",
       "4                                                 {}  "
      ]
     },
     "execution_count": 19,
     "metadata": {},
     "output_type": "execute_result"
    }
   ],
   "source": [
    "top_five_scores =df.nlargest(5, 'best_score', keep= 'all')\n",
    "top_five_scores"
   ]
  },
  {
   "cell_type": "code",
   "execution_count": 20,
   "metadata": {
    "scrolled": true
   },
   "outputs": [
    {
     "data": {
      "text/plain": [
       "model         support vector machine\n",
       "best_score                   0.83061\n",
       "dtype: object"
      ]
     },
     "execution_count": 20,
     "metadata": {},
     "output_type": "execute_result"
    }
   ],
   "source": [
    "df.max()"
   ]
  },
  {
   "cell_type": "markdown",
   "metadata": {},
   "source": [
    "## Choose the best model"
   ]
  },
  {
   "cell_type": "code",
   "execution_count": 21,
   "metadata": {},
   "outputs": [
    {
     "data": {
      "text/plain": [
       "Pipeline(memory=None,\n",
       "         steps=[('standardscaler',\n",
       "                 StandardScaler(copy=True, with_mean=True, with_std=True)),\n",
       "                ('svc',\n",
       "                 SVC(C=1, break_ties=False, cache_size=200, class_weight=None,\n",
       "                     coef0=0.0, decision_function_shape='ovr', degree=3,\n",
       "                     gamma='auto', kernel='linear', max_iter=-1,\n",
       "                     probability=True, random_state=None, shrinking=True,\n",
       "                     tol=0.001, verbose=False))],\n",
       "         verbose=False)"
      ]
     },
     "execution_count": 21,
     "metadata": {},
     "output_type": "execute_result"
    }
   ],
   "source": [
    "best_model = best_estimators['support vector machine']\n",
    "best_model"
   ]
  },
  {
   "cell_type": "code",
   "execution_count": 22,
   "metadata": {
    "scrolled": true
   },
   "outputs": [
    {
     "data": {
      "text/plain": [
       "0.7761194029850746"
      ]
     },
     "execution_count": 22,
     "metadata": {},
     "output_type": "execute_result"
    }
   ],
   "source": [
    "best_model.score(x_test, y_test)"
   ]
  },
  {
   "cell_type": "code",
   "execution_count": 23,
   "metadata": {
    "scrolled": true
   },
   "outputs": [
    {
     "data": {
      "text/plain": [
       "array([[19,  1,  0,  0,  0,  0],\n",
       "       [ 0, 14,  0,  0,  0,  0],\n",
       "       [ 2,  1,  6,  1,  1,  1],\n",
       "       [ 0,  0,  2,  5,  0,  0],\n",
       "       [ 4,  0,  1,  0,  2,  1],\n",
       "       [ 0,  0,  0,  0,  0,  6]], dtype=int64)"
      ]
     },
     "execution_count": 23,
     "metadata": {},
     "output_type": "execute_result"
    }
   ],
   "source": [
    "from sklearn.metrics import confusion_matrix\n",
    "cm = confusion_matrix(y_test, best_model.predict(x_test))\n",
    "cm"
   ]
  },
  {
   "cell_type": "code",
   "execution_count": 24,
   "metadata": {},
   "outputs": [
    {
     "data": {
      "text/plain": [
       "{'cropped\\\\cristiano_ronaldo': 0,\n",
       " 'cropped\\\\heung_min_son': 1,\n",
       " 'cropped\\\\lionel_messi': 2,\n",
       " 'cropped\\\\mohammed_salah': 3,\n",
       " 'cropped\\\\neymar_jr': 4,\n",
       " 'cropped\\\\sadio_mane': 5}"
      ]
     },
     "execution_count": 24,
     "metadata": {},
     "output_type": "execute_result"
    }
   ],
   "source": [
    "class_dict"
   ]
  },
  {
   "cell_type": "code",
   "execution_count": 27,
   "metadata": {
    "scrolled": true
   },
   "outputs": [
    {
     "data": {
      "text/plain": [
       "Text(0.5, 24.0, 'predicted')"
      ]
     },
     "execution_count": 27,
     "metadata": {},
     "output_type": "execute_result"
    },
    {
     "data": {
      "image/png": "[encoded data removed]",
      "text/plain": [
       "<Figure size 864x360 with 2 Axes>"
      ]
     },
     "metadata": {
      "needs_background": "light"
     },
     "output_type": "display_data"
    }
   ],
   "source": [
    "import seaborn as sn\n",
    "plt.figure(figsize =(12,5))\n",
    "sn.heatmap(cm, annot=True)\n",
    "plt.ylabel('True')\n",
    "plt.xlabel('predicted')"
   ]
  },
  {
   "cell_type": "code",
   "execution_count": 28,
   "metadata": {},
   "outputs": [
    {
     "data": {
      "text/plain": [
       "['fav_footy_face_model.pkl']"
      ]
     },
     "execution_count": 28,
     "metadata": {},
     "output_type": "execute_result"
    }
   ],
   "source": [
    "import joblib\n",
    "joblib.dump(best_model, 'fav_footy_face_model.pkl')\n"
   ]
  },
  {
   "cell_type": "code",
   "execution_count": 29,
   "metadata": {},
   "outputs": [],
   "source": [
    "import json\n",
    "with open ('class_dict.json', 'w') as f:\n",
    "    f.write(json.dumps(class_dict))"
   ]
  },
  {
   "cell_type": "code",
   "execution_count": null,
   "metadata": {},
   "outputs": [],
   "source": []
  }
 ],
 "metadata": {
  "kernelspec": {
   "display_name": "Python 3",
   "language": "python",
   "name": "python3"
  },
  "language_info": {
   "codemirror_mode": {
    "name": "ipython",
    "version": 3
   },
   "file_extension": ".py",
   "mimetype": "text/x-python",
   "name": "python",
   "nbconvert_exporter": "python",
   "pygments_lexer": "ipython3",
   "version": "3.8.10"
  }
 },
 "nbformat": 4,
 "nbformat_minor": 4
}
